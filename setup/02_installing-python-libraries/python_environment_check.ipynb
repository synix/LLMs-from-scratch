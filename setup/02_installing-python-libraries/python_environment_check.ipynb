{
 "cells": [
  {
   "cell_type": "markdown",
   "id": "c31e08b0-f551-4d67-b95e-41f49de3b392",
   "metadata": {},
   "source": [
    "<font size=\"1\">\n",
    "Supplementary code for \"Build a Large Language Model From Scratch\": <a href=\"https://www.manning.com/books/build-a-large-language-model-from-scratch\">https://www.manning.com/books/build-a-large-language-model-from-scratch</a> by <a href=\"https://sebastianraschka.com\">Sebastian Raschka</a><br>\n",
    "Code repository: <a href=\"https://github.com/rasbt/LLMs-from-scratch\">https://github.com/rasbt/LLMs-from-scratch</a>\n",
    "</font>"
   ]
  },
  {
   "cell_type": "code",
   "execution_count": 2,
   "id": "67f6f7ed-b67d-465b-bf6f-a99b0d996930",
   "metadata": {},
   "outputs": [
    {
     "name": "stdout",
     "output_type": "stream",
     "text": [
      "[OK] Your Python version is 3.11.7\n",
      "✈️ get_requirements_dict, add req:  torch sys_platform == \"darwin\" and platform_machine == \"x86_64\" <2.6,>=2.2.2 torch>=2.2.2,<2.6; sys_platform == 'darwin' and platform_machine == 'x86_64'\n",
      "✈️ get_requirements_dict, add req:  torch sys_platform != \"darwin\" or platform_machine != \"x86_64\" >=2.2.2 torch >= 2.2.2; sys_platform != 'darwin' or platform_machine != 'x86_64'\n",
      "✈️ get_requirements_dict, add req:  jupyterlab None >=4.0 jupyterlab >= 4.0\n",
      "✈️ get_requirements_dict, add req:  tiktoken None >=0.5.1 tiktoken >= 0.5.1\n",
      "✈️ get_requirements_dict, add req:  matplotlib None >=3.7.1 matplotlib >= 3.7.1\n",
      "✈️ get_requirements_dict, add req:  tensorflow sys_platform == \"darwin\" and platform_machine == \"x86_64\" >=2.16.2 tensorflow>=2.16.2; sys_platform == 'darwin' and platform_machine == 'x86_64'\n",
      "✈️ get_requirements_dict, add req:  tensorflow sys_platform != \"darwin\" or platform_machine != \"x86_64\" >=2.18.0 tensorflow >= 2.18.0; sys_platform != 'darwin' or platform_machine != 'x86_64'\n",
      "✈️ get_requirements_dict, add req:  tqdm None >=4.66.1 tqdm >= 4.66.1\n",
      "✈️ get_requirements_dict, add req:  numpy None <2.1,>=1.26 numpy >= 1.26, < 2.1\n",
      "✈️ get_requirements_dict, add req:  pandas None >=2.2.1 pandas >= 2.2.1\n",
      "✈️ get_requirements_dict, add req:  psutil None >=5.9.5 psutil >= 5.9.5\n",
      "required packages:  {'torch': '>=2.2.2', 'jupyterlab': '>=4.0', 'tiktoken': '>=0.5.1', 'matplotlib': '>=3.7.1', 'tensorflow': '>=2.18.0', 'tqdm': '>=4.66.1', 'numpy': '<2.1,>=1.26', 'pandas': '>=2.2.1', 'psutil': '>=5.9.5'}\n",
      "[OK] torch 2.8.0\n",
      "[OK] jupyterlab 4.4.6\n",
      "[OK] tiktoken 0.11.0\n",
      "[OK] matplotlib 3.10.5\n",
      "[OK] tensorflow 2.20.0\n",
      "[OK] tqdm 4.67.1\n",
      "[OK] numpy 2.0.2\n",
      "[OK] pandas 2.3.2\n",
      "[OK] psutil 7.0.0\n"
     ]
    }
   ],
   "source": [
    "from python_environment_check import check_packages, get_requirements_dict\n",
    "\n",
    "required_packages = get_requirements_dict()\n",
    "print(\"required packages: \", required_packages)\n",
    "check_packages(required_packages)"
   ]
  },
  {
   "cell_type": "code",
   "execution_count": 1,
   "id": "db2c8f20",
   "metadata": {},
   "outputs": [
    {
     "name": "stdout",
     "output_type": "stream",
     "text": [
      "2.8.0\n",
      "False\n",
      "True\n"
     ]
    }
   ],
   "source": [
    "import torch\n",
    "print(torch.__version__)\n",
    "print(torch.cuda.is_available())\n",
    "# 是否支持Apple M芯片加速\n",
    "print(torch.backends.mps.is_available()) "
   ]
  },
  {
   "cell_type": "markdown",
   "id": "546b43ab",
   "metadata": {},
   "source": []
  }
 ],
 "metadata": {
  "kernelspec": {
   "display_name": ".venv",
   "language": "python",
   "name": "python3"
  },
  "language_info": {
   "codemirror_mode": {
    "name": "ipython",
    "version": 3
   },
   "file_extension": ".py",
   "mimetype": "text/x-python",
   "name": "python",
   "nbconvert_exporter": "python",
   "pygments_lexer": "ipython3",
   "version": "3.11.7"
  }
 },
 "nbformat": 4,
 "nbformat_minor": 5
}
